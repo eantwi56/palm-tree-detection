{
 "cells": [
  {
   "cell_type": "code",
   "execution_count": 3,
   "id": "da7a8d78-7bac-48c3-af47-51e16d8642fc",
   "metadata": {},
   "outputs": [],
   "source": [
    "import os\n",
    "import pandas as pd"
   ]
  },
  {
   "cell_type": "code",
   "execution_count": 5,
   "id": "bdf300fa-606f-4a3b-9105-4cfe9861897c",
   "metadata": {},
   "outputs": [
    {
     "ename": "FileNotFoundError",
     "evalue": "[Errno 2] No such file or directory: 'project/train_images'",
     "output_type": "error",
     "traceback": [
      "\u001b[31m---------------------------------------------------------------------------\u001b[39m",
      "\u001b[31mFileNotFoundError\u001b[39m                         Traceback (most recent call last)",
      "\u001b[36mCell\u001b[39m\u001b[36m \u001b[39m\u001b[32mIn[5]\u001b[39m\u001b[32m, line 4\u001b[39m\n\u001b[32m      1\u001b[39m csv_filenames = \u001b[38;5;28mset\u001b[39m(pd.read_csv(\u001b[33m'\u001b[39m\u001b[33mtrain_labels.csv\u001b[39m\u001b[33m'\u001b[39m)[\u001b[33m'\u001b[39m\u001b[33mfilename\u001b[39m\u001b[33m'\u001b[39m].str.strip().tolist())\n\u001b[32m      2\u001b[39m image_dir = \u001b[33m'\u001b[39m\u001b[33mproject/train_images\u001b[39m\u001b[33m'\u001b[39m\n\u001b[32m----> \u001b[39m\u001b[32m4\u001b[39m all_images = \u001b[43mos\u001b[49m\u001b[43m.\u001b[49m\u001b[43mlistdir\u001b[49m\u001b[43m(\u001b[49m\u001b[43mimage_dir\u001b[49m\u001b[43m)\u001b[49m\n\u001b[32m      6\u001b[39m \u001b[38;5;28mprint\u001b[39m(\u001b[33mf\u001b[39m\u001b[33m\"\u001b[39m\u001b[33mImages in folder: \u001b[39m\u001b[38;5;132;01m{\u001b[39;00m\u001b[38;5;28mlen\u001b[39m(all_images)\u001b[38;5;132;01m}\u001b[39;00m\u001b[33m\"\u001b[39m)\n\u001b[32m      7\u001b[39m \u001b[38;5;28mprint\u001b[39m(\u001b[33mf\u001b[39m\u001b[33m\"\u001b[39m\u001b[33mFilenames from CSV: \u001b[39m\u001b[38;5;132;01m{\u001b[39;00m\u001b[38;5;28mlen\u001b[39m(csv_filenames)\u001b[38;5;132;01m}\u001b[39;00m\u001b[33m\"\u001b[39m)\n",
      "\u001b[31mFileNotFoundError\u001b[39m: [Errno 2] No such file or directory: 'project/train_images'"
     ]
    }
   ],
   "source": [
    "csv_filenames = set(pd.read_csv('project/train_labels.csv')['filename'].str.strip().tolist())\n",
    "image_dir = 'project/train_images'\n",
    "\n",
    "all_images = os.listdir(image_dir)\n",
    "\n",
    "print(f\"Images in folder: {len(all_images)}\")\n",
    "print(f\"Filenames from CSV: {len(csv_filenames)}\")\n",
    "\n",
    "missing = csv_filenames - set(all_images)\n",
    "\n",
    "print(f\"Files in CSV not in folder: {len(missing)}\")\n",
    "print(list(missing)[:10])  # Show sample"
   ]
  },
  {
   "cell_type": "code",
   "execution_count": null,
   "id": "17a5eb62-96bc-4b28-a804-4812bfa2de95",
   "metadata": {},
   "outputs": [],
   "source": []
  }
 ],
 "metadata": {
  "kernelspec": {
   "display_name": "Python 3 (ipykernel)",
   "language": "python",
   "name": "python3"
  },
  "language_info": {
   "codemirror_mode": {
    "name": "ipython",
    "version": 3
   },
   "file_extension": ".py",
   "mimetype": "text/x-python",
   "name": "python",
   "nbconvert_exporter": "python",
   "pygments_lexer": "ipython3",
   "version": "3.12.3"
  }
 },
 "nbformat": 4,
 "nbformat_minor": 5
}
